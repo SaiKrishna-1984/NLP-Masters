{
 "cells": [
  {
   "attachments": {
    "image.png": {
     "image/png": "[encoded data removed]"
    }
   },
   "cell_type": "markdown",
   "metadata": {},
   "source": [
    "![image.png](attachment:image.png)"
   ]
  },
  {
   "cell_type": "markdown",
   "metadata": {},
   "source": [
    "**Question 1.Write a python program to find out the words after '@' from the below sentences with the use of regex.** \n",
    "\n",
    "\"xyz@gmail.com\",\n",
    "\"abc@yahoo.com\",\n",
    "\"xyz@hotmail.com\",\n",
    "\"abc@ineuron.ai\",\n",
    "\"xyz@outlook.com\"\n",
    "\n"
   ]
  },
  {
   "cell_type": "code",
   "execution_count": 6,
   "metadata": {},
   "outputs": [
    {
     "name": "stdout",
     "output_type": "stream",
     "text": [
      "gmail.com\n",
      "yahoo.com\n",
      "hotmail.com\n",
      "ineuron.ai\n",
      "outlook.com\n"
     ]
    }
   ],
   "source": [
    "import re\n",
    "\n",
    "for inp_string in [\"xyz@gmail.com\", \"abc@yahoo.com\", \"xyz@hotmail.com\", \"abc@ineuron.ai\", \"xyz@outlook.com\"]:\n",
    "    split = re.split('@', inp_string)\n",
    "    print(split[1])"
   ]
  },
  {
   "cell_type": "markdown",
   "metadata": {},
   "source": [
    "** What are the steps involved in solving an NLP problem?**"
   ]
  },
  {
   "cell_type": "markdown",
   "metadata": {},
   "source": [
    "Below are the steps involved in solving an NLP problem:\n",
    "\n",
    "- Gather the text from the available dataset or by web scraping\n",
    "- Apply stemming and lemmatization for text cleaning\n",
    "- Apply feature engineering techniques\n",
    "- Embed the words using word2vec\n",
    "- Train the built model using neural networks or other Machine Learning techniques\n",
    "- Evaluate the model’s performance\n",
    "- Make appropriate changes in the model\n",
    "- Deploy the model"
   ]
  },
  {
   "cell_type": "markdown",
   "metadata": {},
   "source": [
    "**Question 2. Write a python program with the use of regex to take out the word \"New\" from the following sentence.**\n",
    "\n",
    "[\"New Delhi is the capital of India\"]\n"
   ]
  },
  {
   "cell_type": "code",
   "execution_count": 21,
   "metadata": {},
   "outputs": [
    {
     "name": "stdout",
     "output_type": "stream",
     "text": [
      " Delhi is the capital of India\n"
     ]
    }
   ],
   "source": [
    "def take_arg(search_arg,inp_string):\n",
    "    result = re.search(search_arg, inp_string)\n",
    "    str_pos , end_pos = result.span()\n",
    "    \n",
    "    res = inp_string[:str_pos] + inp_string[end_pos:]\n",
    "    print(res)\n",
    "    \n",
    "\n",
    "inp_string = \"New Delhi is the capital of India\"\n",
    "search_arg = 'New'\n",
    "\n",
    "take_arg(search_arg,inp_string)"
   ]
  },
  {
   "cell_type": "code",
   "execution_count": 22,
   "metadata": {},
   "outputs": [
    {
     "name": "stdout",
     "output_type": "stream",
     "text": [
      "Delhi's currently described as  Delhi, the capital of India\n"
     ]
    }
   ],
   "source": [
    "inp_string = \"Delhi's currently described as New Delhi, the capital of India\"\n",
    "search_arg = 'New'\n",
    "\n",
    "take_arg(search_arg,inp_string)"
   ]
  },
  {
   "cell_type": "markdown",
   "metadata": {},
   "source": [
    "**Question 3.** Create one python program in which you have to lowercase the sentence first and than delete digits from the following sentence.\n",
    "\n",
    "\"In India, 184 people got affected with Corona virus and 4 are died.\"\n",
    "\n"
   ]
  },
  {
   "cell_type": "code",
   "execution_count": 26,
   "metadata": {},
   "outputs": [
    {
     "name": "stdout",
     "output_type": "stream",
     "text": [
      "in india,  people got affected with corona virus and  are died.\n"
     ]
    }
   ],
   "source": [
    "def preprocess_txt(inp_string):\n",
    "    res = inp_string.lower()\n",
    "    \n",
    "    search_arg = '\\d'\n",
    "    repl_arg = ''\n",
    "    result = re.sub(search_arg, repl_arg ,res)\n",
    "\n",
    "    print(result)\n",
    "    \n",
    "\n",
    "inp_string = \"In India, 184 people got affected with Corona virus and 4 are died.\"\n",
    "preprocess_txt(inp_string)"
   ]
  },
  {
   "cell_type": "markdown",
   "metadata": {},
   "source": [
    "**Question 4. Do stemming, lemmatization and tokenization from the following sentence.**\n",
    "\n",
    "\"I hope that, when I have built up my savings, I will be able to travel to Hawai.\"\n",
    "\n"
   ]
  },
  {
   "cell_type": "code",
   "execution_count": 29,
   "metadata": {},
   "outputs": [
    {
     "data": {
      "text/plain": [
       "['I',\n",
       " 'hope',\n",
       " 'that',\n",
       " ',',\n",
       " 'when',\n",
       " 'I',\n",
       " 'have',\n",
       " 'built',\n",
       " 'up',\n",
       " 'my',\n",
       " 'save',\n",
       " ',',\n",
       " 'I',\n",
       " 'will',\n",
       " 'be',\n",
       " 'abl',\n",
       " 'to',\n",
       " 'travel',\n",
       " 'to',\n",
       " 'hawai',\n",
       " '.']"
      ]
     },
     "execution_count": 29,
     "metadata": {},
     "output_type": "execute_result"
    }
   ],
   "source": [
    "#importing nltk's porter stemmer \n",
    "from nltk.stem.porter import PorterStemmer \n",
    "from nltk.tokenize import word_tokenize \n",
    "stem1 = PorterStemmer() \n",
    "  \n",
    "# stem words in the list of tokenised words \n",
    "def stem_words(text): \n",
    "    word_tokens = word_tokenize(text) \n",
    "    stems = [stem1.stem(word) for word in word_tokens] \n",
    "    return stems \n",
    "  \n",
    "text = 'I hope that, when I have built up my savings, I will be able to travel to Hawai.'\n",
    "stem_words(text)"
   ]
  },
  {
   "cell_type": "code",
   "execution_count": 31,
   "metadata": {},
   "outputs": [
    {
     "data": {
      "text/plain": [
       "['I',\n",
       " 'hope',\n",
       " 'that',\n",
       " ',',\n",
       " 'when',\n",
       " 'I',\n",
       " 'have',\n",
       " 'build',\n",
       " 'up',\n",
       " 'my',\n",
       " 'save',\n",
       " ',',\n",
       " 'I',\n",
       " 'will',\n",
       " 'be',\n",
       " 'able',\n",
       " 'to',\n",
       " 'travel',\n",
       " 'to',\n",
       " 'Hawai',\n",
       " '.']"
      ]
     },
     "execution_count": 31,
     "metadata": {},
     "output_type": "execute_result"
    }
   ],
   "source": [
    "from nltk.stem import wordnet \n",
    "from nltk.tokenize import word_tokenize \n",
    "lemma = wordnet.WordNetLemmatizer()\n",
    "\n",
    "# lemmatize string \n",
    "def lemmatize_word(text): \n",
    "    word_tokens = word_tokenize(text) \n",
    "    # provide context i.e. part-of-speech(pos)\n",
    "    lemmas = [lemma.lemmatize(word, pos ='v') for word in word_tokens] \n",
    "    return lemmas \n",
    "  \n",
    "text = 'I hope that, when I have built up my savings, I will be able to travel to Hawai.'\n",
    "lemmatize_word(text)"
   ]
  },
  {
   "cell_type": "markdown",
   "metadata": {},
   "source": [
    "**Question 5. Create one python program from the following sentence.**\n",
    "\n",
    "\"I love NLP, not you\"\n",
    "\n",
    "output : ['I', 'l', 'N', 'n', 'y']"
   ]
  },
  {
   "cell_type": "code",
   "execution_count": 35,
   "metadata": {},
   "outputs": [
    {
     "data": {
      "text/plain": [
       "['I', 'l', 'N', 'n', 'y']"
      ]
     },
     "execution_count": 35,
     "metadata": {},
     "output_type": "execute_result"
    }
   ],
   "source": [
    "from nltk.tokenize import word_tokenize \n",
    "import string\n",
    "  \n",
    "# stem words in the list of tokenised words \n",
    "def starting_chars(text): \n",
    "    translator = str.maketrans('', '', string.punctuation) \n",
    "    text = text.translate(translator)\n",
    "     \n",
    "    word_tokens = word_tokenize(text) \n",
    "    starting_chars = [word[0] for word in word_tokens] \n",
    "    return starting_chars\n",
    "\n",
    "text = \"I love NLP, not you\"\n",
    "starting_chars(text)"
   ]
  },
  {
   "cell_type": "markdown",
   "metadata": {},
   "source": [
    "**What is Parsing in the context of NLP?**"
   ]
  },
  {
   "cell_type": "markdown",
   "metadata": {},
   "source": [
    "Parsing a document means to working out the grammatical structure of sentences, for instance, which groups of words go together (as “phrases”) and which words are the subject or object of a verb. Probabilistic parsers use knowledge of language gained from hand-parsed sentences to try to produce the most likely analysis of new sentences."
   ]
  },
  {
   "cell_type": "markdown",
   "metadata": {},
   "source": [
    "**Explain briefly about word2vec**"
   ]
  },
  {
   "cell_type": "markdown",
   "metadata": {},
   "source": [
    "Word2vec was created and published in 2013 by a team of researchers led by Tomas Mikolov at Google.\n",
    "\n",
    "Word2vec is a group of related models that are used to produce word embeddings. These models are shallow, two-layer neural networks that are trained to reconstruct linguistic contexts of words. Word2vec takes as its input a large corpus of text and produces a vector space, typically of several hundred dimensions, with each unique word in the corpus being assigned a corresponding vector in the space. \n",
    "\n",
    "Word vectors are positioned in the vector space such that words that share common contexts in the corpus are located close to one another in the space.\n",
    "\n",
    "The result is a set of word-vectors where vectors close together in vector space have similar meanings based on context, and word-vectors distant to each other have differing meanings. \n",
    "\n",
    "For example, apple and orange would be close together and apple and gravity would be relatively far.\n",
    "\n",
    "Word2vec can utilize either of two model architectures to produce a distributed representation of words: continuous bag-of-words (CBOW) or continuous skip-gram. \n",
    "\n",
    "- In the continuous bag-of-words architecture, the model predicts the current word from a window of surrounding context words. The order of context words does not influence prediction (bag-of-words assumption). \n",
    "\n",
    "- In the continuous skip-gram architecture, the model uses the current word to predict the surrounding window of context words."
   ]
  },
  {
   "cell_type": "markdown",
   "metadata": {},
   "source": [
    "**What are some popular Python libraries used for NLP**"
   ]
  },
  {
   "cell_type": "markdown",
   "metadata": {},
   "source": [
    "Stanford’s CoreNLP, SpaCy , NLTK and TextBlob.\n",
    "\n",
    "There is more to explore about NLP. Advancements like Google’s BERT, where a transformer network is preferred to CNN or RNN. A Transformer network applies self-attention mechanism which scans through every word and appends attention scores(weights) to the words. For example, homonyms will be given higher scores for their ambiguity and these weights are used to calculate weighted average which gives a different representation of the same"
   ]
  },
  {
   "cell_type": "markdown",
   "metadata": {},
   "source": [
    "**What is Latent Semantic Indexing?**"
   ]
  },
  {
   "cell_type": "markdown",
   "metadata": {},
   "source": [
    "Latent semantic indexing is a mathematical technique to extract information from unstructured data. It is based on the principle that words used in the same context carry the same meaning.\n",
    "\n",
    "In order to identify relevant (concept) components, or in other words, aims to group words into classes that represent concepts or semantic fields, this method applies Singular Value Decomposition  to the Term-Document matrix. As the name suggests this matrix consists of words as rows and document as columns.\n",
    "\n",
    "LSI is computation heavy when compared to other models. But it equips an NLP model with better contextual awareness, which is relatively closer to NLU"
   ]
  },
  {
   "cell_type": "code",
   "execution_count": null,
   "metadata": {},
   "outputs": [],
   "source": []
  }
 ],
 "metadata": {
  "kernelspec": {
   "display_name": "Python 3",
   "language": "python",
   "name": "python3"
  },
  "language_info": {
   "codemirror_mode": {
    "name": "ipython",
    "version": 3
   },
   "file_extension": ".py",
   "mimetype": "text/x-python",
   "name": "python",
   "nbconvert_exporter": "python",
   "pygments_lexer": "ipython3",
   "version": "3.7.6"
  }
 },
 "nbformat": 4,
 "nbformat_minor": 4
}
