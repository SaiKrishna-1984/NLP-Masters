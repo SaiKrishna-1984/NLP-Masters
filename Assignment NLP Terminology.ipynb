{
 "cells": [
  {
   "cell_type": "markdown",
   "metadata": {},
   "source": [
    "**Question 1.** Explain Morphology in your own words.\n",
    "\n",
    "**Question 2.** Define pragmatic ambiguity with some examples.\n",
    "\n",
    "**Question 3**. How many Parts-of-speech(pos) tagging in NLP?Name them with examples.\n",
    "\n",
    "**Question 4**. What is the IOB format? \n",
    "\n",
    "**Question 5**. Explain Computational Lexicography in your own terms."
   ]
  }
 ],
 "metadata": {
  "kernelspec": {
   "display_name": "Python 3",
   "language": "python",
   "name": "python3"
  },
  "language_info": {
   "codemirror_mode": {
    "name": "ipython",
    "version": 3
   },
   "file_extension": ".py",
   "mimetype": "text/x-python",
   "name": "python",
   "nbconvert_exporter": "python",
   "pygments_lexer": "ipython3",
   "version": "3.7.6"
  }
 },
 "nbformat": 4,
 "nbformat_minor": 4
}
